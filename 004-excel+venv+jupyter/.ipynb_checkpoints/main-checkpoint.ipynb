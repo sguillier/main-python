{
 "cells": [
  {
   "cell_type": "code",
   "execution_count": 1,
   "id": "fc5972c7",
   "metadata": {},
   "outputs": [
    {
     "name": "stdout",
     "output_type": "stream",
     "text": [
      "hola mundo\n"
     ]
    }
   ],
   "source": [
    "print('hola mundo')"
   ]
  },
  {
   "cell_type": "code",
   "execution_count": 1,
   "id": "ecc4bdf5",
   "metadata": {},
   "outputs": [
    {
     "name": "stdout",
     "output_type": "stream",
     "text": [
      "Hello World\n",
      "None\n",
      "None\n",
      "2\n",
      "None\n",
      "None\n",
      "3\n",
      "None\n",
      "None\n"
     ]
    }
   ],
   "source": [
    "import openpyxl\n",
    "\n",
    "book = openpyxl.load_workbook('test.xlsx')\n",
    "\n",
    "hoja = book.active\n",
    "\n",
    "hoja['A1'] = 'Hello World'\n",
    "\n",
    "celdas = hoja['A1':'C3']\n",
    "\n",
    "for fila in celdas:\n",
    "    for celda in fila:\n",
    "        print(celda.value)\n",
    "\n",
    "\n",
    "book.save('test.xlsx')\n",
    "    "
   ]
  },
  {
   "cell_type": "code",
   "execution_count": null,
   "id": "8e3c30d8",
   "metadata": {},
   "outputs": [],
   "source": []
  }
 ],
 "metadata": {
  "kernelspec": {
   "display_name": "Python 3 (ipykernel)",
   "language": "python",
   "name": "python3"
  },
  "language_info": {
   "codemirror_mode": {
    "name": "ipython",
    "version": 3
   },
   "file_extension": ".py",
   "mimetype": "text/x-python",
   "name": "python",
   "nbconvert_exporter": "python",
   "pygments_lexer": "ipython3",
   "version": "3.10.2"
  }
 },
 "nbformat": 4,
 "nbformat_minor": 5
}
